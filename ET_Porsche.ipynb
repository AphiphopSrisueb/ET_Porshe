{
  "nbformat": 4,
  "nbformat_minor": 0,
  "metadata": {
    "colab": {
      "provenance": [],
      "include_colab_link": true
    },
    "kernelspec": {
      "name": "python3",
      "display_name": "Python 3"
    },
    "language_info": {
      "name": "python"
    }
  },
  "cells": [
    {
      "cell_type": "markdown",
      "metadata": {
        "id": "view-in-github",
        "colab_type": "text"
      },
      "source": [
        "<a href=\"https://colab.research.google.com/github/AphiphopSrisueb/ET_Porshe/blob/main/ET_Porsche.ipynb\" target=\"_parent\"><img src=\"https://colab.research.google.com/assets/colab-badge.svg\" alt=\"Open In Colab\"/></a>"
      ]
    },
    {
      "cell_type": "code",
      "execution_count": null,
      "metadata": {
        "id": "eIJsPWaw5bna"
      },
      "outputs": [],
      "source": [
        "from google.colab import drive\n",
        "drive.mount('/content/drive')"
      ]
    },
    {
      "cell_type": "code",
      "source": [
        "import hashlib\n",
        "\n",
        "import matplotlib.pyplot as plt\n",
        "import matplotlib.gridspec as gridspec\n",
        "%matplotlib inline\n",
        "import time\n",
        "import numpy as np"
      ],
      "metadata": {
        "id": "i-DhNANr_8m-"
      },
      "execution_count": null,
      "outputs": []
    },
    {
      "cell_type": "code",
      "source": [
        "from PIL import Image"
      ],
      "metadata": {
        "id": "mbcD0iVt_-D1"
      },
      "execution_count": null,
      "outputs": []
    },
    {
      "cell_type": "code",
      "source": [
        "import os"
      ],
      "metadata": {
        "id": "9uudydx7__ld"
      },
      "execution_count": null,
      "outputs": []
    },
    {
      "cell_type": "code",
      "source": [
        "def file_hash(filepath): # create hash value of each images\n",
        "    with open(filepath, 'rb') as f:\n",
        "        return md5(f.read()).hexdigest()"
      ],
      "metadata": {
        "id": "H9Qz4_ImABi9"
      },
      "execution_count": null,
      "outputs": []
    },
    {
      "cell_type": "code",
      "source": [
        "os.chdir(r'/content/drive/MyDrive/ET_Porshe/train') # path you want to remove duplicates\n",
        "os.getcwd()"
      ],
      "metadata": {
        "id": "G4JN7eZ9ADJF"
      },
      "execution_count": null,
      "outputs": []
    },
    {
      "cell_type": "code",
      "source": [
        "os.getcwd() # check path"
      ],
      "metadata": {
        "id": "8VNlRSUZAFV1"
      },
      "execution_count": null,
      "outputs": []
    },
    {
      "cell_type": "code",
      "source": [
        "file_list = os.listdir() # check amount of files in folder\n",
        "print(len(file_list))"
      ],
      "metadata": {
        "id": "RcBMurcEAHfl",
        "colab": {
          "base_uri": "https://localhost:8080/"
        },
        "outputId": "b18ad949-2e24-4203-e127-267cd6c92499"
      },
      "execution_count": null,
      "outputs": [
        {
          "output_type": "stream",
          "name": "stdout",
          "text": [
            "22\n"
          ]
        }
      ]
    },
    {
      "cell_type": "code",
      "source": [
        "import hashlib, os # find duplicates\n",
        "duplicates = []\n",
        "hash_keys = dict()\n",
        "for index, filename in  enumerate(os.listdir('.')):  #listdir('.') = current directory\n",
        "    if os.path.isfile(filename):\n",
        "        with open(filename, 'rb') as f:\n",
        "            filehash = hashlib.md5(f.read()).hexdigest()\n",
        "        if filehash not in hash_keys:\n",
        "            hash_keys[filehash] = index\n",
        "        else:\n",
        "            duplicates.append((index,hash_keys[filehash]))"
      ],
      "metadata": {
        "id": "y0QdEnZBAJg9"
      },
      "execution_count": null,
      "outputs": []
    },
    {
      "cell_type": "code",
      "source": [
        "duplicates # check if there is duplicates or not"
      ],
      "metadata": {
        "id": "IQY7TkmRALUe"
      },
      "execution_count": null,
      "outputs": []
    },
    {
      "cell_type": "code",
      "source": [
        "for file_indexes in duplicates[:30]: # if there is duplicates you can check the image that is duplicates\n",
        "    try:\n",
        "\n",
        "        plt.subplot(121),plt.imshow(Image.open(file_list[file_indexes[1]]))\n",
        "        plt.title(file_indexes[1]), plt.xticks([]), plt.yticks([])\n",
        "\n",
        "        plt.subplot(122),plt.imshow(Image.open(file_list[file_indexes[0]]))\n",
        "        plt.title(str(file_indexes[0]) + ' duplicate'), plt.xticks([]), plt.yticks([])\n",
        "        plt.show()\n",
        "\n",
        "    except OSError as e:\n",
        "        continue"
      ],
      "metadata": {
        "id": "-YIATKgrANbe"
      },
      "execution_count": null,
      "outputs": []
    },
    {
      "cell_type": "markdown",
      "source": [
        "TRAINING TIME"
      ],
      "metadata": {
        "id": "BqJM-BIyBOu-"
      }
    },
    {
      "cell_type": "code",
      "source": [
        "!pip install -Uqq fastbook\n",
        "import fastbook\n",
        "fastbook.setup_book()"
      ],
      "metadata": {
        "id": "CDgEpLDaBRvF"
      },
      "execution_count": null,
      "outputs": []
    },
    {
      "cell_type": "code",
      "source": [
        "from fastbook import *"
      ],
      "metadata": {
        "id": "rvzrWIFQBVQ2"
      },
      "execution_count": null,
      "outputs": []
    },
    {
      "cell_type": "code",
      "source": [
        "# Define your data block\n",
        "fields = DataBlock(\n",
        "    blocks=(ImageBlock, CategoryBlock),\n",
        "    get_items=get_image_files,\n",
        "    get_y=parent_label,\n",
        "    splitter=GrandparentSplitter(train_name='train', valid_name='vali'),  # Split into train and validation\n",
        "    item_tfms=RandomResizedCrop(224, min_scale=0.5),  # Resize images\n",
        "    batch_tfms=aug_transforms()\n",
        ")"
      ],
      "metadata": {
        "id": "hkwxYufJHg20"
      },
      "execution_count": null,
      "outputs": []
    },
    {
      "cell_type": "code",
      "source": [
        "paths = get_image_files('/content/gdrive/MyDrive/ET_Porshe/') # work folder that contain data"
      ],
      "metadata": {
        "id": "i6Aab7ILBbkF"
      },
      "execution_count": null,
      "outputs": []
    },
    {
      "cell_type": "code",
      "source": [
        "dls = fields.dataloaders(\"/content/gdrive/MyDrive/ET_Porshe/\") # dataloader"
      ],
      "metadata": {
        "id": "hgr-gTbKBeOl"
      },
      "execution_count": null,
      "outputs": []
    },
    {
      "cell_type": "code",
      "source": [
        "dls.train.show_batch(max_n=8, nrows=2) # check that image and data correspond or not"
      ],
      "metadata": {
        "id": "U8cNFxHzBgD9"
      },
      "execution_count": null,
      "outputs": []
    },
    {
      "cell_type": "code",
      "source": [
        "dls.vocab # check all classes"
      ],
      "metadata": {
        "id": "sa-RhsehBh12"
      },
      "execution_count": null,
      "outputs": []
    },
    {
      "cell_type": "code",
      "source": [
        "learner = cnn_learner(dls, resnet34, metrics=[error_rate, accuracy]) # setup a learner"
      ],
      "metadata": {
        "id": "-Nw-EsFOBjgO"
      },
      "execution_count": null,
      "outputs": []
    },
    {
      "cell_type": "code",
      "source": [
        "learner.lr_find() # find the learning rate"
      ],
      "metadata": {
        "id": "X-rpeNh8BkuO"
      },
      "execution_count": null,
      "outputs": []
    },
    {
      "cell_type": "code",
      "source": [
        "learner.fine_tune(epochs=6, freeze_epochs=1, base_lr=0.0012) # fine tune the model for 6 epochs by freezing the first epoch"
      ],
      "metadata": {
        "id": "91b91Ia9BmUW"
      },
      "execution_count": null,
      "outputs": []
    },
    {
      "cell_type": "code",
      "source": [
        "interp = ClassificationInterpretation.from_learner(learner)\n",
        "interp.plot_confusion_matrix(normalize=True, norm_dec=2, figsize=(22,22), dpi=60) # plot a confusion matrix to look at the accuracy of each classes"
      ],
      "metadata": {
        "id": "7aBf7uhsBoxu"
      },
      "execution_count": null,
      "outputs": []
    },
    {
      "cell_type": "code",
      "source": [
        "learner.show_results(shuffle=True) # see the result of the model"
      ],
      "metadata": {
        "id": "zarFvPTjBqpl"
      },
      "execution_count": null,
      "outputs": []
    },
    {
      "cell_type": "code",
      "source": [
        "learner.export(\"PORSCHE MD\") # save your model"
      ],
      "metadata": {
        "id": "DKr7xO43BtUV"
      },
      "execution_count": null,
      "outputs": []
    },
    {
      "cell_type": "code",
      "source": [],
      "metadata": {
        "id": "5iwTGXqvP_hg"
      },
      "execution_count": null,
      "outputs": []
    }
  ]
}